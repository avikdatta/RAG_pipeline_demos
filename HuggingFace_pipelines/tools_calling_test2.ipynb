{
 "cells": [
  {
   "cell_type": "code",
   "execution_count": 1,
   "metadata": {},
   "outputs": [],
   "source": [
    "import os\n",
    "os.environ['HF_HOME'] = '/rds/general/project/genomics-facility-archive-2019/live/adatta17/test_dir/test142_gpt/cache/'"
   ]
  },
  {
   "cell_type": "code",
   "execution_count": 2,
   "metadata": {},
   "outputs": [
    {
     "name": "stderr",
     "output_type": "stream",
     "text": [
      "/home/adatta17/anaconda3/envs/haystack/lib/python3.10/site-packages/tqdm/auto.py:21: TqdmWarning: IProgress not found. Please update jupyter and ipywidgets. See https://ipywidgets.readthedocs.io/en/stable/user_install.html\n",
      "  from .autonotebook import tqdm as notebook_tqdm\n"
     ]
    }
   ],
   "source": [
    "import torch\n",
    "from transformers import AutoModelForCausalLM, AutoTokenizer\n",
    "\n",
    "# checkpoint = \"NousResearch/Hermes-2-Pro-Llama-3-8B\"\n",
    "\n",
    "# tokenizer = AutoTokenizer.from_pretrained(checkpoint)\n",
    "# model = AutoModelForCausalLM.from_pretrained(checkpoint, torch_dtype=torch.bfloat16, device_map=\"auto\")"
   ]
  },
  {
   "cell_type": "code",
   "execution_count": 3,
   "metadata": {},
   "outputs": [],
   "source": [
    "def get_current_temperature(location: str, unit: str) -> float:\n",
    "    \"\"\"\n",
    "    Get the current temperature at a location.\n",
    "    \n",
    "    Args:\n",
    "        location: The location to get the temperature for, in the format \"City, Country\"\n",
    "        unit: The unit to return the temperature in. (choices: [\"celsius\", \"fahrenheit\"])\n",
    "    Returns:\n",
    "        The current temperature at the specified location in the specified units, as a float.\n",
    "    \"\"\"\n",
    "    return 22.  # A real function should probably actually get the temperature!\n",
    "\n",
    "def get_current_wind_speed(location: str) -> float:\n",
    "    \"\"\"\n",
    "    Get the current wind speed in km/h at a given location.\n",
    "    \n",
    "    Args:\n",
    "        location: The location to get the temperature for, in the format \"City, Country\"\n",
    "    Returns:\n",
    "        The current wind speed at the given location in km/h, as a float.\n",
    "    \"\"\"\n",
    "    return 6.  # A real function should probably actually get the wind speed!\n",
    "\n",
    "tools = [get_current_temperature, get_current_wind_speed]"
   ]
  },
  {
   "cell_type": "code",
   "execution_count": 4,
   "metadata": {},
   "outputs": [],
   "source": [
    "# messages = [\n",
    "#   {\"role\": \"system\", \"content\": \"You are a bot that responds to weather queries. You should reply with the unit used in the queried location.\"},\n",
    "#   {\"role\": \"user\", \"content\": \"Hey, what's the temperature in Paris in celsius right now?\"}\n",
    "# ]"
   ]
  },
  {
   "cell_type": "code",
   "execution_count": 5,
   "metadata": {},
   "outputs": [],
   "source": [
    "# inputs = tokenizer.apply_chat_template(messages, tools=tools, add_generation_prompt=True, return_dict=True, return_tensors=\"pt\")\n",
    "# inputs = {k: v.to(model.device) for k, v in inputs.items()}\n",
    "# out = model.generate(**inputs, max_new_tokens=128)\n",
    "# print(tokenizer.decode(out[0][len(inputs[\"input_ids\"][0]):]))"
   ]
  },
  {
   "cell_type": "code",
   "execution_count": 20,
   "metadata": {},
   "outputs": [],
   "source": [
    "import json\n",
    "\n",
    "class Conversation:\n",
    "    def __init__(self, tokenizer: AutoTokenizer, model: AutoModelForCausalLM, tools: list):\n",
    "        self.tokenizer = tokenizer #AutoTokenizer.from_pretrained(model_name)\n",
    "        self.model = model #AutoModelForCausalLM.from_pretrained(model_name, torch_dtype=torch.bfloat16, device_map=\"auto\")\n",
    "        self.messages = [\n",
    "            {\"role\": \"system\",\n",
    "             \"content\": \"You are a bot that responds to weather queries. You should reply with the unit used in the queried location.\"}\n",
    "        ]\n",
    "        self.tools = tools\n",
    "    \n",
    "    def _tokenize_input(self) -> dict:\n",
    "        inputs = \\\n",
    "            self.tokenizer.apply_chat_template(\n",
    "                self.messages,\n",
    "                tools=self.tools,\n",
    "                add_generation_prompt=True,\n",
    "                return_dict=True,\n",
    "                return_tensors=\"pt\")\n",
    "        inputs = {k: v.to(model.device) for k, v in inputs.items()}\n",
    "        return inputs\n",
    "\n",
    "    def _get_model_output(self, max_new_tokens: int = 512) -> str:\n",
    "        inputs = self._tokenize_input()\n",
    "        output = \\\n",
    "            self.model.generate(**inputs, max_new_tokens=max_new_tokens)\n",
    "        response = \\\n",
    "            tokenizer.decode(output[0][len(inputs[\"input_ids\"][0]):])\n",
    "        return response\n",
    "\n",
    "    def _call_function(self, response):\n",
    "        response = \\\n",
    "            response.replace(\"<|im_end|>\", \"\")\n",
    "        response = \\\n",
    "            response.\\\n",
    "                replace(\"<tool_call>\", \"\").\\\n",
    "                replace(\"</tool_call>\", \"\").\\\n",
    "                strip()\n",
    "        tools_json = json.loads(response)\n",
    "        output = globals()[tools_json[\"name\"]](**tools_json[\"arguments\"])\n",
    "        tool_call = json.dumps(tools_json)\n",
    "        self.messages.append({\"role\": \"assistant\", \"tool_calls\": [{\"type\": \"function\", \"function\": tool_call}]})\n",
    "        self.messages.append({\"role\": \"tool\", \"name\": tools_json[\"name\"], \"content\": f\"{output}\"})\n",
    "        response = \\\n",
    "            self._get_model_output()\n",
    "        response = \\\n",
    "            response.replace(\"<|im_end|>\", \"\")\n",
    "        return response\n",
    "        \n",
    "    def chat(self, message: str):\n",
    "        self.messages.append({\n",
    "            \"role\": \"user\", \"content\": message})\n",
    "        response = \\\n",
    "            self._get_model_output()\n",
    "        if response.startswith(\"<tool_call>\"):\n",
    "            tool_response = \\\n",
    "                self._call_function(response)\n",
    "            self.messages.append({\"role\": \"assistant\", \"content\": tool_response})\n",
    "            return tool_response\n",
    "        else:\n",
    "            self.messages.append({\"role\": \"assistant\", \"content\": response})\n",
    "            return response\n",
    "            "
   ]
  },
  {
   "cell_type": "code",
   "execution_count": 14,
   "metadata": {},
   "outputs": [
    {
     "name": "stderr",
     "output_type": "stream",
     "text": [
      "Loading checkpoint shards: 100%|██████████| 4/4 [01:39<00:00, 24.99s/it]\n",
      "Some parameters are on the meta device because they were offloaded to the cpu.\n"
     ]
    }
   ],
   "source": [
    "checkpoint = \"NousResearch/Hermes-2-Pro-Llama-3-8B\"\n",
    "\n",
    "tokenizer = AutoTokenizer.from_pretrained(checkpoint)\n",
    "model = AutoModelForCausalLM.from_pretrained(checkpoint, torch_dtype=torch.bfloat16, device_map=\"auto\")"
   ]
  },
  {
   "cell_type": "code",
   "execution_count": 21,
   "metadata": {},
   "outputs": [],
   "source": [
    "conv = Conversation(tokenizer=tokenizer, model=model, tools=[get_current_temperature, get_current_wind_speed])"
   ]
  },
  {
   "cell_type": "code",
   "execution_count": 22,
   "metadata": {},
   "outputs": [
    {
     "name": "stderr",
     "output_type": "stream",
     "text": [
      "Setting `pad_token_id` to `eos_token_id`:None for open-end generation.\n",
      "Setting `pad_token_id` to `eos_token_id`:None for open-end generation.\n"
     ]
    },
    {
     "data": {
      "text/plain": [
       "'The current temperature in Paris, France is 22.0°C (71.6°F).'"
      ]
     },
     "execution_count": 22,
     "metadata": {},
     "output_type": "execute_result"
    }
   ],
   "source": [
    "conv.chat(\"Hey, what's the temperature in Paris in celsius right now?\")"
   ]
  },
  {
   "cell_type": "code",
   "execution_count": 23,
   "metadata": {},
   "outputs": [
    {
     "name": "stderr",
     "output_type": "stream",
     "text": [
      "Setting `pad_token_id` to `eos_token_id`:None for open-end generation.\n",
      "Setting `pad_token_id` to `eos_token_id`:None for open-end generation.\n"
     ]
    },
    {
     "data": {
      "text/plain": [
       "'The current wind speed in Paris, France is 6.0 km/h. Please note that the wind speed is not commonly measured in Fahrenheit, so the unit used is kilometers per hour (km/h).'"
      ]
     },
     "execution_count": 23,
     "metadata": {},
     "output_type": "execute_result"
    }
   ],
   "source": [
    "conv.chat(\"Hey, what's the wind speed?\")"
   ]
  },
  {
   "cell_type": "markdown",
   "metadata": {},
   "source": [
    "https://www.llama.com/docs/model-cards-and-prompt-formats/llama3_2#-spinquant-"
   ]
  },
  {
   "cell_type": "code",
   "execution_count": null,
   "metadata": {},
   "outputs": [],
   "source": []
  }
 ],
 "metadata": {
  "kernelspec": {
   "display_name": "haystack",
   "language": "python",
   "name": "haystack"
  },
  "language_info": {
   "codemirror_mode": {
    "name": "ipython",
    "version": 3
   },
   "file_extension": ".py",
   "mimetype": "text/x-python",
   "name": "python",
   "nbconvert_exporter": "python",
   "pygments_lexer": "ipython3",
   "version": "3.10.0"
  }
 },
 "nbformat": 4,
 "nbformat_minor": 2
}
